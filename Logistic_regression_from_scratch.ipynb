{
  "nbformat": 4,
  "nbformat_minor": 0,
  "metadata": {
    "colab": {
      "name": "Logistic regression from scratch",
      "provenance": [],
      "collapsed_sections": [],
      "authorship_tag": "ABX9TyM58BtYseXshbD9YxVEnkyf",
      "include_colab_link": true
    },
    "kernelspec": {
      "name": "python3",
      "display_name": "Python 3"
    },
    "language_info": {
      "name": "python"
    }
  },
  "cells": [
    {
      "cell_type": "markdown",
      "metadata": {
        "id": "view-in-github",
        "colab_type": "text"
      },
      "source": [
        "<a href=\"https://colab.research.google.com/github/IsmaelSaid/MASTER1TER/blob/master/Logistic_regression_from_scratch.ipynb\" target=\"_parent\"><img src=\"https://colab.research.google.com/assets/colab-badge.svg\" alt=\"Open In Colab\"/></a>"
      ]
    },
    {
      "cell_type": "code",
      "source": [
        "#setup\n",
        "import numpy as np \n",
        "import sympy as smp\n",
        "from math import exp\n",
        "from math import log\n",
        "import matplotlib.pyplot as plt\n",
        "from sklearn.datasets import make_classification"
      ],
      "metadata": {
        "id": "mAnTzuxOypY9"
      },
      "execution_count": null,
      "outputs": []
    },
    {
      "cell_type": "markdown",
      "source": [
        "## **Activation function : Sigmoid**"
      ],
      "metadata": {
        "id": "uir06Glx7mDr"
      }
    },
    {
      "cell_type": "code",
      "source": [
        "def sigmoid(input : int) -> int:\n",
        " result = 1 / (1 + exp(input))\n",
        " return result\n",
        "\n",
        "assert sigmoid (0) == 0.5"
      ],
      "metadata": {
        "id": "oWVPKr9WyxGJ"
      },
      "execution_count": null,
      "outputs": []
    },
    {
      "cell_type": "code",
      "source": [
        "input = np.linspace(-5,5,200)\n",
        "result_sigmoid = [-sigmoid(i) for i in (input)]\n",
        "\n",
        "# Appearance\n",
        "fig ,ax = plt.subplots()\n",
        "ax.set_title('sigmoid(x)')\n",
        "ax.set_xlabel('x')\n",
        "ax.set_ylabel('sigmoid(x)')\n",
        "\n",
        "# plot \n",
        "ax.plot(input,result_sigmoid)\n",
        "plt.show()"
      ],
      "metadata": {
        "colab": {
          "base_uri": "https://localhost:8080/",
          "height": 295
        },
        "id": "q8fwQu1pnD9i",
        "outputId": "bd734c43-3f00-4493-c139-e1bce3b53e5d"
      },
      "execution_count": null,
      "outputs": [
        {
          "output_type": "display_data",
          "data": {
            "text/plain": [
              "<Figure size 432x288 with 1 Axes>"
            ],
            "image/png": "[encoded data removed]"
          },
          "metadata": {
            "needs_background": "light"
          }
        }
      ]
    },
    {
      "cell_type": "markdown",
      "source": [
        "# **Model**\n",
        "$h_θ(x) = θ_0x + θ_1$  \n",
        "$ \\hat{y} = s(x) = \\frac{1}{1 + e^{-h_θ(x)}} $"
      ],
      "metadata": {
        "id": "blAu6RQhvX2W"
      }
    },
    {
      "cell_type": "code",
      "source": [
        "# For our cost function, we are gonna use cross entropy\n",
        "def cross_entropy(p,y):\n",
        "  result = -(y*log(p) + (1-y) * log(1-p))\n",
        "  return result \n",
        "\n",
        "def predict(input, theta0, theta1):\n",
        "  z = theta0 * input + theta1\n",
        "  s = sigmoid(z)\n",
        "  return \n"
      ],
      "metadata": {
        "id": "3_9K6dMJCqsw"
      },
      "execution_count": null,
      "outputs": []
    },
    {
      "cell_type": "code",
      "source": [
        "input = np.linspace(0.001,0.999,1000)\n",
        "loss = [cross_entropy(i,1) for i in input]\n",
        "fig, ax = plt.subplots(2,1)\n",
        "ax[0].set_xlabel(\"proba\")\n",
        "ax[0].set_ylabel(\"log_loss\")\n",
        "ax[0].set_title('y = 1')\n",
        "ax[0].plot(input,loss)\n",
        "\n",
        "\n",
        "loss = [cross_entropy(i,0) for i in input]\n",
        "ax[1].set_xlabel(\"proba\")\n",
        "ax[1].set_ylabel(\"log_loss\")\n",
        "ax[1].set_title('y = 0')\n",
        "ax[1].plot(input,loss)\n",
        "plt.show()"
      ],
      "metadata": {
        "colab": {
          "base_uri": "https://localhost:8080/",
          "height": 295
        },
        "id": "RHZhI3EYD8yd",
        "outputId": "a3ce9e38-b41b-4ac8-c5f1-4d25a6087a63"
      },
      "execution_count": null,
      "outputs": [
        {
          "output_type": "display_data",
          "data": {
            "text/plain": [
              "<Figure size 432x288 with 2 Axes>"
            ],
            "image/png": "[encoded data removed]"
          },
          "metadata": {
            "needs_background": "light"
          }
        }
      ]
    },
    {
      "cell_type": "code",
      "source": [
        "x,y = make_classification(n_samples=100, \n",
        "                          n_features=2, \n",
        "                          n_informative=1, \n",
        "                          n_redundant=1, \n",
        "                          n_classes=2,\n",
        "                          n_clusters_per_class=1)"
      ],
      "metadata": {
        "id": "zDaAicj7FDTN"
      },
      "execution_count": null,
      "outputs": []
    },
    {
      "cell_type": "code",
      "source": [
        "#@title\n",
        "y"
      ],
      "metadata": {
        "colab": {
          "base_uri": "https://localhost:8080/"
        },
        "cellView": "form",
        "id": "0KqFlKaJYyNv",
        "outputId": "cc2e7772-d82a-4b62-804f-ceb8671b9b7c"
      },
      "execution_count": null,
      "outputs": [
        {
          "output_type": "execute_result",
          "data": {
            "text/plain": [
              "array([0, 0, 0, 0, 1, 0, 0, 1, 0, 0, 1, 0, 1, 0, 1, 0, 0, 1, 1, 0, 1, 1,\n",
              "       1, 0, 0, 0, 1, 0, 0, 1, 0, 1, 1, 1, 0, 0, 1, 1, 0, 0, 0, 1, 0, 1,\n",
              "       0, 0, 1, 1, 1, 0, 0, 1, 1, 1, 0, 1, 0, 0, 0, 0, 1, 0, 1, 0, 1, 0,\n",
              "       1, 0, 1, 0, 0, 1, 1, 0, 1, 1, 0, 1, 1, 1, 0, 1, 1, 0, 1, 1, 1, 0,\n",
              "       0, 0, 1, 1, 1, 1, 1, 1, 0, 1, 0, 1])"
            ]
          },
          "metadata": {},
          "execution_count": 7
        }
      ]
    },
    {
      "cell_type": "code",
      "source": [
        ""
      ],
      "metadata": {
        "id": "5zn3LIi7o10e"
      },
      "execution_count": null,
      "outputs": []
    }
  ]
}